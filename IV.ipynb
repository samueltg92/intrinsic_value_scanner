{
 "cells": [
  {
   "cell_type": "code",
   "execution_count": 1,
   "metadata": {},
   "outputs": [],
   "source": [
    "from yahoofinancials import YahooFinancials\n",
    "\n",
    "import yahoo_fin.stock_info as si"
   ]
  },
  {
   "cell_type": "code",
   "execution_count": 3,
   "metadata": {},
   "outputs": [],
   "source": [
    "ticker= 'MSFT'"
   ]
  },
  {
   "cell_type": "code",
   "execution_count": 6,
   "metadata": {},
   "outputs": [
    {
     "data": {
      "text/plain": [
       "319.97"
      ]
     },
     "execution_count": 6,
     "metadata": {},
     "output_type": "execute_result"
    }
   ],
   "source": [
    "stock_obj = YahooFinancials(ticker)\n",
    "\n",
    "price_dict = stock_obj.get_stock_price_data()[ticker]\n",
    "\n",
    "current = price_dict['regularMarketPreviousClose']\n",
    "\n",
    "currency = price_dict['currency']\n",
    "\n",
    "shares_outstandings = stock_obj.get_num_shares_outstanding()\n",
    "\n",
    "PERatio=stock_obj.get_pe_ratio()\n",
    "\n",
    "EarningPerShare_dict = stock_obj.get_earnings_per_share()\n"
   ]
  },
  {
   "cell_type": "code",
   "execution_count": 7,
   "metadata": {},
   "outputs": [
    {
     "data": {
      "text/plain": [
       "14.4"
      ]
     },
     "execution_count": 7,
     "metadata": {},
     "output_type": "execute_result"
    }
   ],
   "source": [
    "Projected_GR = si.get_analysts_info(ticker)['Growth Estimates'][ticker]\n",
    "\n",
    "Projected_GR\n",
    "\n",
    "df= Projected_GR.to_frame(name='GR')\n",
    "\n",
    "df['GR']= df['GR'].str.rstrip('%').astype(float)\n",
    "\n",
    "x=df._get_value(4, 'GR')\n",
    "\n",
    "x"
   ]
  },
  {
   "cell_type": "code",
   "execution_count": 15,
   "metadata": {},
   "outputs": [
    {
     "data": {
      "text/plain": [
       "{0: 9.69,\n",
       " 1: 11.09,\n",
       " 2: 12.69,\n",
       " 3: 14.52,\n",
       " 4: 16.61,\n",
       " 5: 19.0,\n",
       " 6: 21.74,\n",
       " 7: 24.87,\n",
       " 8: 28.45,\n",
       " 9: 32.55}"
      ]
     },
     "execution_count": 15,
     "metadata": {},
     "output_type": "execute_result"
    }
   ],
   "source": [
    "earnings_dict = {0:round(stock_obj.get_earnings_per_share(),2)}\n",
    "\n",
    "for i in range(1,10):\n",
    "\n",
    "    j = i - 1\n",
    "\n",
    "    earnings_dict[i] = round(earnings_dict[j]+(earnings_dict[j] * (x/100)),2)\n",
    "\n",
    "earnings_dict"
   ]
  },
  {
   "cell_type": "code",
   "execution_count": 16,
   "metadata": {},
   "outputs": [
    {
     "data": {
      "text/plain": [
       "{9: 1084.9329036,\n",
       " 8: 943.4199161739131,\n",
       " 7: 820.3651444990548,\n",
       " 6: 713.3609952165694,\n",
       " 5: 620.3139088839735,\n",
       " 4: 539.4033990295421,\n",
       " 3: 469.0464339387323,\n",
       " 2: 407.86646429454987,\n",
       " 1: 354.66649069091295,\n",
       " 0: 308.40564407905475}"
      ]
     },
     "execution_count": 16,
     "metadata": {},
     "output_type": "execute_result"
    }
   ],
   "source": [
    "intrinsic_price_dict = {9: earnings_dict[9]*(PERatio)}\n",
    "\n",
    "for i in range(8,-1,-1):\n",
    "\n",
    "    j = i + 1\n",
    "\n",
    "    intrinsic_price_dict[i] = intrinsic_price_dict[j]/(1+0.15)\n",
    "\n",
    "intrinsic_price_dict"
   ]
  },
  {
   "cell_type": "code",
   "execution_count": 21,
   "metadata": {},
   "outputs": [
    {
     "data": {
      "text/plain": [
       "246.73"
      ]
     },
     "execution_count": 21,
     "metadata": {},
     "output_type": "execute_result"
    }
   ],
   "source": [
    "current_intrinsic_price = round(intrinsic_price_dict[0],2)\n",
    "buyable_price = round((current_intrinsic_price * 0.8), 2)\n",
    "buyable_price"
   ]
  },
  {
   "cell_type": "code",
   "execution_count": 22,
   "metadata": {},
   "outputs": [
    {
     "name": "stdout",
     "output_type": "stream",
     "text": [
      "MSFT: Expensive\n",
      "Target = <$246.73\n",
      "Current = $319.97\n"
     ]
    }
   ],
   "source": [
    "if buyable_price > stock_obj.get_daily_high(): \n",
    "    print(f'{ticker}: Cheap\\nTarget = <${buyable_price}\\nCurrent = ${current}.')\n",
    "\n",
    "else:\n",
    "    print(f'{ticker}: Expensive\\nTarget = <${buyable_price}\\nCurrent = ${current}')"
   ]
  },
  {
   "cell_type": "code",
   "execution_count": null,
   "metadata": {},
   "outputs": [],
   "source": [
    "    "
   ]
  }
 ],
 "metadata": {
  "kernelspec": {
   "display_name": "TRADING",
   "language": "python",
   "name": "python3"
  },
  "language_info": {
   "codemirror_mode": {
    "name": "ipython",
    "version": 3
   },
   "file_extension": ".py",
   "mimetype": "text/x-python",
   "name": "python",
   "nbconvert_exporter": "python",
   "pygments_lexer": "ipython3",
   "version": "3.9.7"
  },
  "orig_nbformat": 4
 },
 "nbformat": 4,
 "nbformat_minor": 2
}
