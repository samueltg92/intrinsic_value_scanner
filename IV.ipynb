{
 "cells": [
  {
   "cell_type": "code",
   "execution_count": 1,
   "metadata": {},
   "outputs": [],
   "source": [
    "from yahoofinancials import YahooFinancials\n",
    "import yahoo_fin.stock_info as si"
   ]
  },
  {
   "cell_type": "code",
   "execution_count": 29,
   "metadata": {},
   "outputs": [
    {
     "data": {
      "text/plain": [
       "'\\n- Añadir un método para obtener el ticker de una empresa del SP500, NASDAQ o DOW JONES\\n'"
      ]
     },
     "execution_count": 29,
     "metadata": {},
     "output_type": "execute_result"
    }
   ],
   "source": [
    "'''\n",
    "- Añadir un método para obtener el ticker de una empresa del SP500, NASDAQ o DOW JONES\n",
    "'''"
   ]
  },
  {
   "cell_type": "code",
   "execution_count": 3,
   "metadata": {},
   "outputs": [],
   "source": [
    "# Obtener el ticker de una empresa\n",
    "ticker= 'MSFT'"
   ]
  },
  {
   "cell_type": "code",
   "execution_count": 28,
   "metadata": {},
   "outputs": [],
   "source": [
    "stock_obj = YahooFinancials(ticker)\n",
    "\n",
    "# Obtener el precio de una acción y algunos ratios financieros\n",
    "price_dict = stock_obj.get_stock_price_data()[ticker]\n",
    "current = price_dict['regularMarketPreviousClose']\n",
    "currency = price_dict['currency']\n",
    "shares_outstandings = stock_obj.get_num_shares_outstanding()\n",
    "PERatio=stock_obj.get_pe_ratio()\n",
    "EarningPerShare_dict = stock_obj.get_earnings_per_share()\n"
   ]
  },
  {
   "cell_type": "code",
   "execution_count": 27,
   "metadata": {},
   "outputs": [
    {
     "name": "stdout",
     "output_type": "stream",
     "text": [
      "0    12.80%\n",
      "1    14.20%\n",
      "2    11.70%\n",
      "3    15.10%\n",
      "4    14.40%\n",
      "5    21.26%\n",
      "Name: MSFT, dtype: object\n",
      "--------------------------------------------------\n",
      "x = 14.4\n"
     ]
    }
   ],
   "source": [
    "# Obtener el estimado de crecimiento de los proximos 5 años\n",
    "Projected_GR = si.get_analysts_info(ticker)['Growth Estimates'][ticker]\n",
    "print(Projected_GR)\n",
    "\n",
    "print('-'*50)\n",
    "df= Projected_GR.to_frame(name='GR')\n",
    "df['GR']= df['GR'].str.rstrip('%').astype(float)\n",
    "\n",
    "x=df._get_value(4, 'GR')\n",
    "print(f'x = {x}')"
   ]
  },
  {
   "cell_type": "code",
   "execution_count": 15,
   "metadata": {},
   "outputs": [
    {
     "data": {
      "text/plain": [
       "{0: 9.69,\n",
       " 1: 11.09,\n",
       " 2: 12.69,\n",
       " 3: 14.52,\n",
       " 4: 16.61,\n",
       " 5: 19.0,\n",
       " 6: 21.74,\n",
       " 7: 24.87,\n",
       " 8: 28.45,\n",
       " 9: 32.55}"
      ]
     },
     "execution_count": 15,
     "metadata": {},
     "output_type": "execute_result"
    }
   ],
   "source": [
    "# Se pronostica el EPS de los proximos 10 años\n",
    "earnings_dict = {0:round(stock_obj.get_earnings_per_share(),2)}\n",
    "\n",
    "for i in range(1,10):\n",
    "\n",
    "    j = i - 1\n",
    "\n",
    "    earnings_dict[i] = round(earnings_dict[j]+(earnings_dict[j] * (x/100)),2)\n",
    "\n",
    "earnings_dict"
   ]
  },
  {
   "cell_type": "code",
   "execution_count": 16,
   "metadata": {},
   "outputs": [
    {
     "data": {
      "text/plain": [
       "{9: 1084.9329036,\n",
       " 8: 943.4199161739131,\n",
       " 7: 820.3651444990548,\n",
       " 6: 713.3609952165694,\n",
       " 5: 620.3139088839735,\n",
       " 4: 539.4033990295421,\n",
       " 3: 469.0464339387323,\n",
       " 2: 407.86646429454987,\n",
       " 1: 354.66649069091295,\n",
       " 0: 308.40564407905475}"
      ]
     },
     "execution_count": 16,
     "metadata": {},
     "output_type": "execute_result"
    }
   ],
   "source": [
    "# Se calcula el precio intrinseco de la acción usando la inducción hacia atras (backward induction) con el ratio P/E\n",
    "intrinsic_price_dict = {9: earnings_dict[9]*(PERatio)}\n",
    "\n",
    "for i in range(8,-1,-1):\n",
    "\n",
    "    j = i + 1\n",
    "\n",
    "    intrinsic_price_dict[i] = intrinsic_price_dict[j]/(1+0.15)\n",
    "\n",
    "intrinsic_price_dict"
   ]
  },
  {
   "cell_type": "code",
   "execution_count": 21,
   "metadata": {},
   "outputs": [
    {
     "data": {
      "text/plain": [
       "246.73"
      ]
     },
     "execution_count": 21,
     "metadata": {},
     "output_type": "execute_result"
    }
   ],
   "source": [
    "# Se calcula el precio de compra de la acción con un margen de seguridad del 80%\n",
    "current_intrinsic_price = round(intrinsic_price_dict[0],2)\n",
    "buyable_price = round((current_intrinsic_price * 0.8), 2)\n",
    "buyable_price"
   ]
  },
  {
   "cell_type": "code",
   "execution_count": 22,
   "metadata": {},
   "outputs": [
    {
     "name": "stdout",
     "output_type": "stream",
     "text": [
      "MSFT: Expensive\n",
      "Target = <$246.73\n",
      "Current = $319.97\n"
     ]
    }
   ],
   "source": [
    "# Se compara el precio de compra con el precio actual de la acción\n",
    "if buyable_price > stock_obj.get_daily_high(): \n",
    "    print(f'{ticker}: Cheap\\nTarget = <${buyable_price}\\nCurrent = ${current}.')\n",
    "\n",
    "else:\n",
    "    print(f'{ticker}: Expensive\\nTarget = <${buyable_price}\\nCurrent = ${current}')"
   ]
  }
 ],
 "metadata": {
  "kernelspec": {
   "display_name": "TRADING",
   "language": "python",
   "name": "python3"
  },
  "language_info": {
   "codemirror_mode": {
    "name": "ipython",
    "version": 3
   },
   "file_extension": ".py",
   "mimetype": "text/x-python",
   "name": "python",
   "nbconvert_exporter": "python",
   "pygments_lexer": "ipython3",
   "version": "3.9.7"
  },
  "orig_nbformat": 4
 },
 "nbformat": 4,
 "nbformat_minor": 2
}
